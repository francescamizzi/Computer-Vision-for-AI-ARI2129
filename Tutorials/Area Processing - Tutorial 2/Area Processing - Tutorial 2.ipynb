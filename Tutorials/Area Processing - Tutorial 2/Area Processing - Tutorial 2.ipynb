{
 "cells": [
  {
   "cell_type": "code",
   "execution_count": 78,
   "metadata": {},
   "outputs": [],
   "source": [
    "import cv2\n",
    "import numpy as np\n",
    "from matplotlib import pyplot as plt\n",
    "import os"
   ]
  },
  {
   "cell_type": "code",
   "execution_count": 79,
   "metadata": {},
   "outputs": [],
   "source": [
    "images = {}\n",
    "for x in os.listdir(\"Images\"):\n",
    "    images[x] = cv2.imread(\"Images/\" + x)"
   ]
  },
  {
   "cell_type": "code",
   "execution_count": 80,
   "metadata": {},
   "outputs": [],
   "source": [
    "raw = cv2.imread('Images/moon-tree.jpg')"
   ]
  },
  {
   "cell_type": "markdown",
   "metadata": {},
   "source": [
    "## Exercise 1 - Sliding Window"
   ]
  },
  {
   "cell_type": "code",
   "execution_count": 81,
   "metadata": {},
   "outputs": [
    {
     "data": {
      "text/plain": [
       "-1"
      ]
     },
     "execution_count": 81,
     "metadata": {},
     "output_type": "execute_result"
    }
   ],
   "source": [
    "cv2.imshow(\"Photo\",raw)\n",
    "cv2.waitKey(0)"
   ]
  },
  {
   "cell_type": "code",
   "execution_count": 82,
   "metadata": {},
   "outputs": [],
   "source": [
    "class Window:\n",
    "    \n",
    "    def __init__(self, image, scale, stride):\n",
    "        \n",
    "        self.xlimit = image.shape[1]+scale\n",
    "        self.ylimit = image.shape[0]+scale\n",
    "        self.topleft = (0,0)\n",
    "        self.bottomright = (scale,scale)\n",
    "        self.prev = scale\n",
    "        self.height = scale\n",
    "        self.pace = (stride, stride)\n",
    "        \n",
    "        try:\n",
    "            self.channels = image.shape[2]\n",
    "        except:\n",
    "            self.channels = 1\n",
    "            \n",
    "    def Position(self):\n",
    "        \n",
    "        return self.topleft, self.bottomright\n",
    "    \n",
    "    def NextPosition(self):\n",
    "        \n",
    "        #New Line Movement\n",
    "        if(self.bottomright + self.pace)[0] >= (self.xlimit - self.height):\n",
    "            return (0, self.topleft[1] + self.pace[1]), (self.height, self.bottomright[1] + self.pace[1])\n",
    "        \n",
    "        #Moving one pixel to the Right\n",
    "        else:\n",
    "            return (self.topleft[0] + self.pace[0], self.topleft[1]), (self.bottomright[0] + self.pace[0], self.bottomright[1])\n",
    "        \n",
    "    def NextMove(self):\n",
    "        \n",
    "        #Move Position of Window\n",
    "        self.topleft, self.bottomright = self.NextPosition()\n",
    "        return self.topleft, self.bottomright\n",
    "    \n",
    "    def InBounds(self, templeft = None, tempright = None):\n",
    "        \n",
    "        if templeft is None:\n",
    "            templeft = self.topleft\n",
    "        if tempright is None:\n",
    "            tempright = self.bottomright \n",
    "            \n",
    "        return tempright[0] <= self.xlimit and tempright[1] <= self.ylimit and templeft[0] >= 0 and templeft[1] >= 0\n",
    "    \n",
    "    def newY(self):\n",
    "        \n",
    "        if self.prev == self.bottomright[1]:\n",
    "            return False\n",
    "        \n",
    "        else:\n",
    "            \n",
    "            self.prev = self.bottomright[1]\n",
    "            return True\n",
    "        \n",
    "    def getImgBounds(self, image):\n",
    "        \n",
    "        img = []\n",
    "        \n",
    "        for i in range(self.topleft[1], self.bottomright[1]):\n",
    "            \n",
    "            if i >= image.shape[0]:\n",
    "                continue\n",
    "                \n",
    "            img.append(image[i][self.topleft[0]: self.bottomright[0]])\n",
    "            \n",
    "        if self.channels == 1:\n",
    "            \n",
    "            return np.resize(np.array(img), (self.height, self.height)) #self.height twice since square\n",
    "        \n",
    "        else:\n",
    "            \n",
    "            return np.resize(np.array(img), (self.height, self.height, self.channels))"
   ]
  },
  {
   "cell_type": "code",
   "execution_count": 83,
   "metadata": {},
   "outputs": [],
   "source": [
    "def sliding_window(image, scale, stride, show):\n",
    "\n",
    "    window = Window(image, scale, stride)\n",
    "    topleft, bottomright = window.Position()\n",
    "\n",
    "    image = cv2.rectangle(image.copy(), topleft, bottomright, (0, 0, 255))\n",
    "    cv2.imwrite(\"Output/moon-tree.png\", image, [cv2.IMWRITE_PNG_COMPRESSION, 0])\n",
    "\n",
    "    tempright, templeft = window.NextPosition()\n",
    "\n",
    "    while window.InBounds(bottomright):\n",
    "        image = cv2.rectangle(image.copy(), topleft, bottomright, (0, 0, 255))\n",
    "        if show:\n",
    "            cv2.imshow(\"Window\", image)\n",
    "            cv2.waitKey(int(1/35*1000))\n",
    "\n",
    "        topleft, bottomright = window.NextMove()\n",
    "        tempright = window.NextPosition()\n",
    "\n",
    "    cv2.destroyAllWindows()"
   ]
  },
  {
   "cell_type": "code",
   "execution_count": 84,
   "metadata": {},
   "outputs": [],
   "source": [
    "sliding_window(raw, 150, 50, True)"
   ]
  },
  {
   "cell_type": "markdown",
   "metadata": {},
   "source": [
    "## Exercise 2 - Convolution on ROI"
   ]
  },
  {
   "cell_type": "code",
   "execution_count": 85,
   "metadata": {},
   "outputs": [],
   "source": [
    "class Kernel:\n",
    "    \n",
    "    def __init__(self, kernel, weight):\n",
    "        \n",
    "        self.kernel = kernel\n",
    "        self.weight = weight \n",
    "        \n",
    "    def Filter(self, roi, axis = 0, channels = 1):\n",
    "        \n",
    "        output = []\n",
    "        \n",
    "        if axis == 2:\n",
    "            \n",
    "            for i in range(channels):\n",
    "                \n",
    "                if channels == 1:\n",
    "                    _filter = self.kernel * roi\n",
    "                \n",
    "                else:\n",
    "                    _filter = self.kernel * roi[:, :, i]\n",
    "                    \n",
    "                filsum = _filter.sum()\n",
    "                \n",
    "                if channels == 1:\n",
    "                    _filter = self.kernel.T * roi\n",
    "                \n",
    "                else:\n",
    "                    \n",
    "                    _filter = self.kernel.T * roi[:, :, i]\n",
    "                    \n",
    "                filsum2 = _filter.sum()\n",
    "                \n",
    "                output.append((((filsum**2) + (filsum2 **2)) ** (1/2)) * self.weight)\n",
    "                \n",
    "            return np.array(output)\n",
    "        \n",
    "        else:\n",
    "            if axis == 0:\n",
    "                kernel = self.kernel \n",
    "            else:\n",
    "                self.kernel.T\n",
    "                \n",
    "            for i in range(channels):\n",
    "                \n",
    "                if channels == 1:\n",
    "                    _filter = kernel * roi\n",
    "                \n",
    "                else:\n",
    "                    _filter = kernel * roi[:, :, i]\n",
    "                    \n",
    "                output.append(_filter.sum() * self.weight)\n",
    "                \n",
    "            return np.array(output)\n",
    "        \n",
    "        \n",
    "    def FilterImage(self, image, pace = 1, window = None, axis = 0):\n",
    "        \n",
    "        img = []\n",
    "        line = []\n",
    "        \n",
    "        if window is None:\n",
    "            \n",
    "            move = Window(image, self.kernel.shape[0], pace)\n",
    "            \n",
    "        else:\n",
    "            \n",
    "            image = window.getImgBounds(image)\n",
    "            move = Window(image, self.kernel.shape[0], pace)\n",
    "            \n",
    "        topleft, _ = move.NextPosition()\n",
    "        while move.InBounds(topleft):\n",
    "            \n",
    "            roi = move.getImgBounds(image)\n",
    "            \n",
    "            if move.newY():\n",
    "                img.append(line)\n",
    "                line = []\n",
    "                \n",
    "            line.append(self.Filter(roi, axis, move.channels))\n",
    "            \n",
    "            move.NextMove()\n",
    "            topleft, _ = move.NextPosition()\n",
    "            \n",
    "        return np.array(img)"
   ]
  },
  {
   "cell_type": "code",
   "execution_count": 89,
   "metadata": {},
   "outputs": [],
   "source": [
    "class Sobel:\n",
    "    def __init__(self, weight):\n",
    "        self.kernel = Kernel(np.array([[-1, 0, 1],\n",
    "                                       [-2, 0, 2],\n",
    "                                       [-1, 0, 1]]),\n",
    "                             weight)\n",
    "\n",
    "    def filterImage(self, image, stride=1, window=None, axis=2):\n",
    "        return self.kernel.FilterImage(image, stride, window, axis)"
   ]
  },
  {
   "cell_type": "code",
   "execution_count": 90,
   "metadata": {},
   "outputs": [],
   "source": [
    "sobel = Sobel(1)"
   ]
  },
  {
   "cell_type": "code",
   "execution_count": 91,
   "metadata": {},
   "outputs": [],
   "source": [
    "for image in images:\n",
    "    win = Window(images[image], 300, 1)\n",
    "    roi = window.getImgBounds(images[image])\n",
    "    \n",
    "    cv2.imwrite(\"Output/RoI/\" + image + \"BeforeFilter.jpg\", roi, [cv2.IMWRITE_PNG_COMPRESSION, 0])\n",
    "    fil = sobel.filterImage(image = images[image], window = win, axis = 2)\n",
    "    cv2.imwrite(\"Output/RoI/\" + image + \"AfterFilter.jpg\", fil, [cv2.IMWRITE_PNG_COMPRESSION, 0])\n"
   ]
  },
  {
   "cell_type": "code",
   "execution_count": 92,
   "metadata": {},
   "outputs": [],
   "source": [
    "def Histograms(image, title):\n",
    "    \n",
    "    hist = cv2.calcHist(image, [0], None, [255], [0, 255])\n",
    "    plt.ylabel('Pixels')\n",
    "    plt.xlabel('Darkness')\n",
    "    plt.title(title)\n",
    "    plt.plot(hist)\n",
    "    plt.xlim([0,256])\n",
    "    plt.savefig(title + 'histogram.png')\n",
    "    plt.clf()"
   ]
  },
  {
   "cell_type": "markdown",
   "metadata": {},
   "source": [
    "## Exercise 3 - Convolution on the whole image"
   ]
  },
  {
   "cell_type": "code",
   "execution_count": 98,
   "metadata": {},
   "outputs": [],
   "source": [
    "for image in images:\n",
    "    fil = sobel.filterImage(image = images[image], axis = 2)\n",
    "    cv2.imwrite(\"Output/RoI/Sobel2/\" + image + \"AfterFilter.jpg\", fil, [cv2.IMWRITE_PNG_COMPRESSION, 0])"
   ]
  },
  {
   "cell_type": "markdown",
   "metadata": {},
   "source": [
    "## Exercise 4 - Different Convolution Kernels"
   ]
  },
  {
   "cell_type": "code",
   "execution_count": 100,
   "metadata": {},
   "outputs": [],
   "source": [
    "class Gaussian:\n",
    "    \n",
    "    def __init__(self, size, weight):\n",
    "        \n",
    "        gauss = size // 2\n",
    "        \n",
    "        x = np.arange(0, size, 1, float)\n",
    "        \n",
    "        y = x[:, np.newaxis]\n",
    "        \n",
    "        tempx = tempy = size // 2\n",
    "        self.kernel = Kernel(np.exp(-4 * np.log(2) * ((x - tempx) ** 2 + (y - tempy) ** 2) / gauss ** 2), weight)\n",
    "        \n",
    "    def FilterImage(self, image, pace = 1, window = None, axis = 0):\n",
    "        return self.kernel.FilterImage(image, pace, window, axis)\n",
    "    \n",
    "class Bilinear:\n",
    "    \n",
    "    def __init__(self, weight):\n",
    "        \n",
    "        self.kernel = Kernel(np.array([[1, 2, 1],\n",
    "                                       [2, 4, 2],\n",
    "                                       [1, 2, 1]]), weight)\n",
    "        \n",
    "    def FilterImage(self, image, pace = 1, window = None, axis = 0):\n",
    "        return self.kernel.FilterImage(image, pace, window, axis)"
   ]
  },
  {
   "cell_type": "code",
   "execution_count": 104,
   "metadata": {},
   "outputs": [],
   "source": [
    "bilinear = Bilinear(1/8)\n",
    "gaussian = Gaussian(5, 1/4)\n",
    "\n",
    "filters = {\"Sobel\": sobel,\n",
    "          \"Bilinear\": bilinear,\n",
    "           \"Gaussian\": gaussian}"
   ]
  },
  {
   "cell_type": "code",
   "execution_count": 105,
   "metadata": {},
   "outputs": [],
   "source": [
    "for fil in filters:\n",
    "    if fil == \"Sobel\":\n",
    "        filt = filters[fil].filterImage(image=images[image], axis = 0)\n",
    "        cv2.imwrite(\"Output/SobelX/\" + image + \"AfterFilter.jpg\", filt,  [cv2.IMWRITE_PNG_COMPRESSION, 0])\n",
    "        filt = filters[fil].filterImage(image=images[image], axis = 0)\n",
    "        cv2.imwrite(\"Output/SobelY/\" + image + \"AfterFilter.jpg\", filt,  [cv2.IMWRITE_PNG_COMPRESSION, 0])\n",
    "\n",
    "    else:\n",
    "        filt = filters[fil].FilterImage(image = images[image])\n",
    "        cv2.imwrite(\"Output/\" + fil + \"/\" + image + \"AfterFilter.jpg\", filt, [cv2.IMWRITE_PNG_COMPRESSION, 0])"
   ]
  },
  {
   "cell_type": "code",
   "execution_count": null,
   "metadata": {},
   "outputs": [],
   "source": []
  }
 ],
 "metadata": {
  "kernelspec": {
   "display_name": "Python 3",
   "language": "python",
   "name": "python3"
  },
  "language_info": {
   "codemirror_mode": {
    "name": "ipython",
    "version": 3
   },
   "file_extension": ".py",
   "mimetype": "text/x-python",
   "name": "python",
   "nbconvert_exporter": "python",
   "pygments_lexer": "ipython3",
   "version": "3.8.5"
  }
 },
 "nbformat": 4,
 "nbformat_minor": 4
}
